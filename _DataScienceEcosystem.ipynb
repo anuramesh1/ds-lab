{
 "cells": [
  {
   "cell_type": "code",
   "execution_count": 3,
   "id": "44245d20-849d-4001-9158-751a497bca4d",
   "metadata": {},
   "outputs": [],
   "source": [
    "# Data Science Tools and Ecosystem\n"
   ]
  },
  {
   "cell_type": "code",
   "execution_count": 5,
   "id": "97a882ff-a8b9-40ba-ac7e-4a63a260818d",
   "metadata": {},
   "outputs": [],
   "source": [
    "# In this notebook, Data Science Tools and Ecosystem are summarized."
   ]
  },
  {
   "cell_type": "code",
   "execution_count": 7,
   "id": "6c40fa05-1ded-4ee7-adab-8317fa8c4015",
   "metadata": {},
   "outputs": [],
   "source": [
    "# Some of the popular languages that Data Scientists use are:\n",
    "# 1. Python\n",
    "# 2. R\n",
    "# 3. SQL\n",
    "# 4. JS\n",
    "# 5. Scala\n",
    "# 6. Java"
   ]
  },
  {
   "cell_type": "code",
   "execution_count": 9,
   "id": "cf367566-abeb-4560-9efc-1a0016f0810f",
   "metadata": {},
   "outputs": [],
   "source": [
    "# Some of the commonly used libraries used by Data Scientists include:\n",
    "# 1. NumPy\n",
    "# 2. Matplotlib\n",
    "# 3. Seaborn\n",
    "# 4. Pandas\n",
    "# 5. SciPy\n",
    "# 6. Scikit-learn\n",
    "# 7. TensorFlow"
   ]
  },
  {
   "cell_type": "code",
   "execution_count": 11,
   "id": "eae7dcf7-e0e0-40f3-9ce4-3d5e83b469fa",
   "metadata": {},
   "outputs": [],
   "source": [
    "# Data Science Tools\n",
    "# 1. Jupyter Notebook\n",
    "# 2. RStudio.\n",
    "# 3. Apache Spark \n",
    "# 4. Google Colab\n",
    "# 5. GitHub "
   ]
  },
  {
   "cell_type": "code",
   "execution_count": 23,
   "id": "176c1c68-fe8d-4ba6-9928-856c687c81c0",
   "metadata": {},
   "outputs": [
    {
     "name": "stdout",
     "output_type": "stream",
     "text": [
      "5 + 3 = 8\n",
      "10 - 4 = 6\n",
      "6 * 7 = 42\n",
      "20 / 5 = 4.0\n"
     ]
    }
   ],
   "source": [
    "### Below are a few examples of evaluating arithmetic expressions in Python\n",
    "# Addition\n",
    "result_addition = 5 + 3\n",
    "print(\"5 + 3 =\", result_addition)\n",
    "\n",
    "# Subtraction\n",
    "result_subtraction = 10 - 4\n",
    "print(\"10 - 4 =\", result_subtraction)\n",
    "\n",
    "# Multiplication\n",
    "result_multiplication = 6 * 7\n",
    "print(\"6 * 7 =\", result_multiplication)\n",
    "\n",
    "# Division\n",
    "result_division = 20 / 5\n",
    "print(\"20 / 5 =\", result_division)"
   ]
  },
  {
   "cell_type": "code",
   "execution_count": 15,
   "id": "fcae786d-8f60-4025-bc76-b879603b7a5c",
   "metadata": {},
   "outputs": [
    {
     "data": {
      "text/plain": [
       "17"
      ]
     },
     "execution_count": 15,
     "metadata": {},
     "output_type": "execute_result"
    }
   ],
   "source": [
    "### This a simple arithmetic expression to mutiply then add integers\n",
    "(3*4)+5"
   ]
  },
  {
   "cell_type": "code",
   "execution_count": 17,
   "id": "bd0d7256-dfee-406b-a24c-1ac712a4acd2",
   "metadata": {},
   "outputs": [
    {
     "data": {
      "text/plain": [
       "3.3333333333333335"
      ]
     },
     "execution_count": 17,
     "metadata": {},
     "output_type": "execute_result"
    }
   ],
   "source": [
    "### This will convert 200 minutes to hours by diving by 60\n",
    "200 / 60"
   ]
  },
  {
   "cell_type": "code",
   "execution_count": 21,
   "id": "04784f93-c721-44bd-9fe6-8cbbfb51f8b7",
   "metadata": {},
   "outputs": [],
   "source": [
    "### **Objectives:**\n",
    "# * Python\n",
    "# * R\n",
    "# * SQL\n",
    "# * JS\n",
    "# * Scala\n",
    "# * Java"
   ]
  },
  {
   "cell_type": "code",
   "execution_count": null,
   "id": "219b3ec8-4714-4dd0-8c4f-5b9042d958a4",
   "metadata": {},
   "outputs": [],
   "source": [
    "## Author\n",
    "Anu Ramesh"
   ]
  }
 ],
 "metadata": {
  "kernelspec": {
   "display_name": "Python 3 (ipykernel)",
   "language": "python",
   "name": "python3"
  },
  "language_info": {
   "codemirror_mode": {
    "name": "ipython",
    "version": 3
   },
   "file_extension": ".py",
   "mimetype": "text/x-python",
   "name": "python",
   "nbconvert_exporter": "python",
   "pygments_lexer": "ipython3",
   "version": "3.12.4"
  }
 },
 "nbformat": 4,
 "nbformat_minor": 5
}
